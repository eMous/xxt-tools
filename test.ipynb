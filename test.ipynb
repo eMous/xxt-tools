{
 "cells": [
  {
   "cell_type": "code",
   "execution_count": 187,
   "metadata": {},
   "outputs": [],
   "source": [
    "from openpyxl import load_workbook\n",
    "from openpyxl.worksheet.worksheet import Worksheet\n",
    "\n",
    "# copy 1.xlsx to 2.xlsx\n",
    "wb = load_workbook('1.xlsx')\n",
    "wb.save('2.xlsx')\n",
    "wb = load_workbook('2.xlsx')\n",
    "wb.remove(wb['成绩总表'])\n",
    "ws = wb['作业统计']\n",
    "wb.save('2.xlsx')\n",
    "\n",
    "# 解释一下 delete_rows_with_merged_ranges 函数的作用\n",
    "\n",
    "\n",
    "def delete_row_with_merged_ranges(sheet:Worksheet, idx):\n",
    "    mcrs_to_remove = []\n",
    "    for mcr in sheet.merged_cells:\n",
    "        if idx == mcr.min_row:\n",
    "            mcrs_to_remove.append(mcr)\n",
    "            \n",
    "    for mcr in mcrs_to_remove:\n",
    "        _remove_mcr_hack(sheet,mcr)\n",
    "    sheet.delete_cols(idx)\n",
    "\n",
    "    for mcr in sheet.merged_cells:\n",
    "        if idx < mcr.min_row:\n",
    "            mcr.shift(row_shift=-1)\n",
    "        elif idx <= mcr.max_row:\n",
    "            mcr.shrink(bottom=1)\n",
    "\n",
    "\n",
    "def _remove_mcr_hack(sheet:Worksheet, mcr):\n",
    "    # bug: you can not unmerge C3:C4 twice even though these are two objs\n",
    "    keep_to_add = []\n",
    "    while len(sheet.merged_cells.ranges) > 0:\n",
    "        mcr2 = sheet.merged_cells.ranges.pop()\n",
    "        if mcr != mcr2:\n",
    "            keep_to_add.append(mcr2)\n",
    "        else:\n",
    "            break\n",
    "    for mcr2 in keep_to_add:\n",
    "       sheet.merged_cells.ranges.add(mcr2) \n",
    "    \n",
    "\n",
    "def delete_col_with_merged_ranges(sheet:Worksheet, idx):\n",
    "    mcrs_to_remove = []\n",
    "    for mcr in sheet.merged_cells:\n",
    "        if idx == mcr.min_col:\n",
    "            mcrs_to_remove.append(mcr)\n",
    "    for mcr in mcrs_to_remove:\n",
    "        _remove_mcr_hack(sheet,mcr)\n",
    "    sheet.delete_cols(idx)\n",
    "\n",
    "    for mcr in sheet.merged_cells:\n",
    "        if idx < mcr.min_col:\n",
    "            mcr.shift(col_shift=-1)\n",
    "        elif idx <= mcr.max_col:\n",
    "            mcr.shrink(right=1)\n",
    "    "
   ]
  },
  {
   "cell_type": "code",
   "execution_count": 188,
   "metadata": {},
   "outputs": [],
   "source": [
    "sheet = ws\n",
    "idx = 1\n",
    "\n",
    "\n",
    "delete_col_with_merged_ranges(sheet,3)\n",
    "delete_col_with_merged_ranges(sheet,3)    \n",
    "\n",
    "wb.save('2.xlsx')"
   ]
  },
  {
   "cell_type": "code",
   "execution_count": 4,
   "metadata": {},
   "outputs": [],
   "source": [
    "# remove 2.xlsx\n",
    "import os\n",
    "os.remove('2.xlsx')\n"
   ]
  }
 ],
 "metadata": {
  "kernelspec": {
   "display_name": ".venv",
   "language": "python",
   "name": "python3"
  },
  "language_info": {
   "codemirror_mode": {
    "name": "ipython",
    "version": 3
   },
   "file_extension": ".py",
   "mimetype": "text/x-python",
   "name": "python",
   "nbconvert_exporter": "python",
   "pygments_lexer": "ipython3",
   "version": "3.12.1"
  }
 },
 "nbformat": 4,
 "nbformat_minor": 2
}
